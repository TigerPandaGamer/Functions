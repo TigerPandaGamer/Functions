{
 "cells": [
  {
   "cell_type": "code",
   "execution_count": 7,
   "id": "022c5394",
   "metadata": {},
   "outputs": [],
   "source": [
    "def tipcalculator():\n",
    "    cost=input('What is the cost of your dinner')\n",
    "    tip=input('How much do you want to tip')\n",
    "    cost=float(cost)\n",
    "    tip=float(tip)\n",
    "    totalcost=cost*tip\n",
    "    print(totalcost)"
   ]
  },
  {
   "cell_type": "code",
   "execution_count": 9,
   "id": "1bb1341e",
   "metadata": {},
   "outputs": [],
   "source": [
    "def tipcalculator2():\n",
    "    cost=input('What is the cost of your dinner')\n",
    "    tip=input('How much do you want to tip')\n",
    "    cost=float(cost)\n",
    "    tip=float(tip)\n",
    "    totalcost=cost*tip\n",
    "    return(totalcost)"
   ]
  },
  {
   "cell_type": "code",
   "execution_count": 10,
   "id": "b9433330",
   "metadata": {},
   "outputs": [
    {
     "name": "stdout",
     "output_type": "stream",
     "text": [
      "What is the cost of your dinner352\n",
      "How much do you want to tip.12\n"
     ]
    }
   ],
   "source": [
    "tc=tipcalculator2()"
   ]
  },
  {
   "cell_type": "code",
   "execution_count": 13,
   "id": "bfe7eaf9",
   "metadata": {},
   "outputs": [
    {
     "name": "stdout",
     "output_type": "stream",
     "text": [
      "What is the cost of your dinner2345324\n",
      "How much do you want to tip234\n"
     ]
    },
    {
     "data": {
      "text/plain": [
       "548805816.0"
      ]
     },
     "execution_count": 13,
     "metadata": {},
     "output_type": "execute_result"
    }
   ],
   "source": [
    "tipcalculator2()"
   ]
  },
  {
   "cell_type": "code",
   "execution_count": 14,
   "id": "d18b13c0",
   "metadata": {},
   "outputs": [],
   "source": [
    "def rectanglecalculator():\n",
    "    length=input(\"What is the length of the rectangle\")\n",
    "    width=input('What is the width of the rectangle')\n",
    "    length=float(length)\n",
    "    width=float(width)\n",
    "    area=width*length\n",
    "    return(area)"
   ]
  },
  {
   "cell_type": "code",
   "execution_count": 15,
   "id": "7f24e2cc",
   "metadata": {},
   "outputs": [
    {
     "name": "stdout",
     "output_type": "stream",
     "text": [
      "What is the length of the rectangle1243\n",
      "What is the width of the rectangle323\n"
     ]
    }
   ],
   "source": [
    "area=rectanglecalculator()"
   ]
  },
  {
   "cell_type": "code",
   "execution_count": 22,
   "id": "528b0143",
   "metadata": {},
   "outputs": [
    {
     "name": "stdout",
     "output_type": "stream",
     "text": [
      "The area of the rectangle is 401489\n"
     ]
    }
   ],
   "source": [
    "print('The area of the rectangle is', int(area))"
   ]
  },
  {
   "cell_type": "code",
   "execution_count": null,
   "id": "a86a8aae",
   "metadata": {},
   "outputs": [],
   "source": []
  }
 ],
 "metadata": {
  "kernelspec": {
   "display_name": "Python 3 (ipykernel)",
   "language": "python",
   "name": "python3"
  },
  "language_info": {
   "codemirror_mode": {
    "name": "ipython",
    "version": 3
   },
   "file_extension": ".py",
   "mimetype": "text/x-python",
   "name": "python",
   "nbconvert_exporter": "python",
   "pygments_lexer": "ipython3",
   "version": "3.9.12"
  }
 },
 "nbformat": 4,
 "nbformat_minor": 5
}
